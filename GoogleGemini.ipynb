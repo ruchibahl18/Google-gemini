{
  "nbformat": 4,
  "nbformat_minor": 0,
  "metadata": {
    "colab": {
      "provenance": []
    },
    "kernelspec": {
      "name": "python3",
      "display_name": "Python 3"
    },
    "language_info": {
      "name": "python"
    }
  },
  "cells": [
    {
      "cell_type": "code",
      "execution_count": null,
      "metadata": {
        "id": "-h0lA7grfhJo",
        "colab": {
          "base_uri": "https://localhost:8080/"
        },
        "outputId": "97bbadde-dcd4-4273-a3a8-31522296ca14"
      },
      "outputs": [
        {
          "output_type": "stream",
          "name": "stdout",
          "text": [
            "\u001b[2K     \u001b[90m━━━━━━━━━━━━━━━━━━━━━━━━━━━━━━━━━━━━━━━━\u001b[0m \u001b[32m190.6/190.6 kB\u001b[0m \u001b[31m3.0 MB/s\u001b[0m eta \u001b[36m0:00:00\u001b[0m\n",
            "\u001b[2K     \u001b[90m━━━━━━━━━━━━━━━━━━━━━━━━━━━━━━━━━━━━━━━━\u001b[0m \u001b[32m46.2/46.2 kB\u001b[0m \u001b[31m2.9 MB/s\u001b[0m eta \u001b[36m0:00:00\u001b[0m\n",
            "\u001b[?25h"
          ]
        }
      ],
      "source": [
        "! pip install -q --upgrade google-generativeai langchain-google-genai python-dotenv"
      ]
    },
    {
      "cell_type": "code",
      "source": [
        "GOOGLE_API_KEY=''"
      ],
      "metadata": {
        "id": "5uWyjC8HflCW"
      },
      "execution_count": null,
      "outputs": []
    },
    {
      "cell_type": "code",
      "source": [
        "from dotenv import load_dotenv\n",
        "load_dotenv()"
      ],
      "metadata": {
        "colab": {
          "base_uri": "https://localhost:8080/"
        },
        "id": "W-C_ZiWLgDcZ",
        "outputId": "3066b749-db10-4130-ca42-a92e6fe12e8b"
      },
      "execution_count": null,
      "outputs": [
        {
          "output_type": "execute_result",
          "data": {
            "text/plain": [
              "False"
            ]
          },
          "metadata": {},
          "execution_count": 3
        }
      ]
    },
    {
      "cell_type": "code",
      "source": [
        "from IPython.display import display\n",
        "from IPython.display import Markdown\n",
        "import textwrap\n",
        "\n",
        "\n",
        "def to_markdown(text):\n",
        "  text = text.replace('•', '  *')\n",
        "  return Markdown(textwrap.indent(text, '> ', predicate=lambda _: True))"
      ],
      "metadata": {
        "id": "HQJYhzBfgE5K"
      },
      "execution_count": null,
      "outputs": []
    },
    {
      "cell_type": "code",
      "source": [
        "import google.generativeai as genai"
      ],
      "metadata": {
        "id": "qYv68mo4gGU7"
      },
      "execution_count": null,
      "outputs": []
    },
    {
      "cell_type": "code",
      "source": [
        "import os\n",
        "genai.configure(api_key=GOOGLE_API_KEY)"
      ],
      "metadata": {
        "id": "7x9GqcaYgIZh"
      },
      "execution_count": null,
      "outputs": []
    },
    {
      "cell_type": "code",
      "source": [
        "model = genai.GenerativeModel(model_name = \"gemini-pro\")"
      ],
      "metadata": {
        "id": "EbfM5ZrzgKi5"
      },
      "execution_count": null,
      "outputs": []
    },
    {
      "cell_type": "code",
      "source": [
        "prompt_parts = [\n",
        "    \"Write a Python function and explain it to me\",\n",
        "]\n",
        "\n",
        "response = model.generate_content(prompt_parts)"
      ],
      "metadata": {
        "id": "lRLXBEwwgR44"
      },
      "execution_count": null,
      "outputs": []
    },
    {
      "cell_type": "code",
      "source": [
        "print(response.text)"
      ],
      "metadata": {
        "colab": {
          "base_uri": "https://localhost:8080/"
        },
        "id": "mlnxT-qWgTqw",
        "outputId": "1b258af5-02bf-4edb-9155-c14a6671f12f"
      },
      "execution_count": null,
      "outputs": [
        {
          "output_type": "stream",
          "name": "stdout",
          "text": [
            "```python\n",
            "def calculate_area(length, width):\n",
            "  \"\"\"Calculates the area of a rectangle.\n",
            "\n",
            "  Args:\n",
            "    length: The length of the rectangle in meters.\n",
            "    width: The width of the rectangle in meters.\n",
            "\n",
            "  Returns:\n",
            "    The area of the rectangle in square meters.\n",
            "  \"\"\"\n",
            "\n",
            "  # Calculate the area using the formula: area = length * width\n",
            "  area = length * width\n",
            "\n",
            "  # Return the calculated area\n",
            "  return area\n",
            "```\n",
            "\n",
            "This function, named `calculate_area`, calculates the area of a rectangle given its length and width. The function takes two arguments, `length` and `width`, both in meters. It calculates the area by multiplying the length and width using the formula `area = length * width`. The calculated area is then returned.\n",
            "\n",
            "Here's a breakdown of the function:\n",
            "\n",
            "1. `def calculate_area(length, width):`: This line defines the function named `calculate_area` with two parameters, `length` and `width`.\n",
            "\n",
            "2. `\"\"\"Calculates the area of a rectangle.\"\"\"`: This is a docstring that provides a brief description of what the function does. It's enclosed in triple quotes (`\"\"\"`).\n",
            "\n",
            "3. `area = length * width`: This line calculates the area of the rectangle by multiplying the length and width.\n",
            "\n",
            "4. `return area`: This line returns the calculated area as the result of the function.\n",
            "\n",
            "To use this function, you would call it like this:\n",
            "\n",
            "```python\n",
            "area = calculate_area(5, 3)\n",
            "print(f\"The area of the rectangle is {area} square meters.\")\n",
            "```\n",
            "\n",
            "This would output:\n",
            "\n",
            "```\n",
            "The area of the rectangle is 15 square meters.\n",
            "```\n",
            "\n",
            "The `calculate_area` function is a simple example of how to write a Python function. It's a reusable piece of code that performs a specific task (calculating the area of a rectangle in this case) and can be used multiple times in your code.\n"
          ]
        }
      ]
    },
    {
      "cell_type": "code",
      "source": [
        "! pip install pillow"
      ],
      "metadata": {
        "id": "-bto9YxLgX_r",
        "outputId": "86f19eaa-6b18-4c1e-d52c-37217711329d",
        "colab": {
          "base_uri": "https://localhost:8080/"
        }
      },
      "execution_count": null,
      "outputs": [
        {
          "output_type": "stream",
          "name": "stdout",
          "text": [
            "Requirement already satisfied: pillow in /usr/local/lib/python3.10/dist-packages (9.4.0)\n"
          ]
        }
      ]
    },
    {
      "cell_type": "code",
      "source": [
        "import PIL.Image\n",
        "\n",
        "img = PIL.Image.open('/content/pwe.jpg')\n",
        "img\n",
        "\n",
        "\n"
      ],
      "metadata": {
        "id": "fwtZAEA6gb46",
        "colab": {
          "base_uri": "https://localhost:8080/",
          "height": 211
        },
        "outputId": "6db2f27e-20a3-49bf-8cbd-e5338d9015b9"
      },
      "execution_count": null,
      "outputs": [
        {
          "output_type": "execute_result",
          "data": {
            "text/plain": [
              "<PIL.JpegImagePlugin.JpegImageFile image mode=RGB size=260x194>"
            ],
            "image/png": "[encoded data removed]"
          },
          "metadata": {},
          "execution_count": 22
        }
      ]
    },
    {
      "cell_type": "code",
      "source": [
        "model = genai.GenerativeModel('gemini-pro-vision')\n",
        "response = model.generate_content(img)\n",
        "\n",
        "to_markdown(response.text)"
      ],
      "metadata": {
        "colab": {
          "base_uri": "https://localhost:8080/",
          "height": 62
        },
        "id": "9fDhS2ihn6p4",
        "outputId": "1a0c68b8-1411-4a6c-ed2d-2b5dde4470b0"
      },
      "execution_count": null,
      "outputs": [
        {
          "output_type": "execute_result",
          "data": {
            "text/plain": [
              "<IPython.core.display.Markdown object>"
            ],
            "text/markdown": ">  I feel personally attacked by this image."
          },
          "metadata": {},
          "execution_count": 23
        }
      ]
    },
    {
      "cell_type": "code",
      "source": [
        "response = model.generate_content(\n",
        "    [\n",
        "        \"Write a short, engaging blog post based on this picture. It should include a description of the objects in the photo and talk about my journey in Tokyo.\",\n",
        "        img\n",
        "    ],\n",
        "    stream=True\n",
        ")\n",
        "response.resolve()"
      ],
      "metadata": {
        "id": "W_DI8bL4oFh5"
      },
      "execution_count": null,
      "outputs": []
    },
    {
      "cell_type": "code",
      "source": [
        "to_markdown(response.text)"
      ],
      "metadata": {
        "colab": {
          "base_uri": "https://localhost:8080/",
          "height": 185
        },
        "id": "X0TAR4szoK1i",
        "outputId": "d52a326c-31ef-4c48-e96f-eefde277d9c3"
      },
      "execution_count": null,
      "outputs": [
        {
          "output_type": "execute_result",
          "data": {
            "text/plain": [
              "<IPython.core.display.Markdown object>"
            ],
            "text/markdown": ">  I've always wanted to visit Tokyo, and I'm so glad I finally had the chance. It's an amazing city, with so much to see and do. I spent my days exploring the different neighborhoods, visiting temples and shrines, and eating lots of delicious food.\n> \n> One of my favorite things about Tokyo is the coffee culture. There are so many great coffee shops to choose from. I loved trying out new cafes and sampling different types of coffee.\n> \n> This photo was taken at a cafe in the Shinjuku neighborhood. I ordered a cappuccino and a cinnamon roll, and they were both delicious. The cafe was decorated with a lot of plants and had a really cozy atmosphere. I loved sitting there and watching the world go by.\n> \n> I'm so glad I had the chance to visit Tokyo. It's a city that I'll never forget."
          },
          "metadata": {},
          "execution_count": 26
        }
      ]
    },
    {
      "cell_type": "code",
      "source": [
        "from langchain_google_genai import ChatGoogleGenerativeAI"
      ],
      "metadata": {
        "id": "TejB_UGfoZob"
      },
      "execution_count": null,
      "outputs": []
    },
    {
      "cell_type": "code",
      "source": [
        "llm = ChatGoogleGenerativeAI(model=\"gemini-pro\", google_api_key=GOOGLE_API_KEY)\n",
        "result = llm.invoke(\"What is the best practice to keep fit?\")\n",
        "to_markdown(result.content)"
      ],
      "metadata": {
        "colab": {
          "base_uri": "https://localhost:8080/",
          "height": 463
        },
        "id": "PAg-ArgLodQ3",
        "outputId": "b73758d9-dbeb-4656-c61e-22d219a7472c"
      },
      "execution_count": null,
      "outputs": [
        {
          "output_type": "execute_result",
          "data": {
            "text/plain": [
              "<IPython.core.display.Markdown object>"
            ],
            "text/markdown": "> 1. **Regular Exercise**: Aim for at least 150 minutes of moderate-intensity aerobic activity or 75 minutes of vigorous-intensity aerobic activity each week. This can include walking, running, cycling, swimming, or any other activity that gets your heart rate up. Strength training exercises should also be incorporated at least twice a week to build and maintain muscle mass.\n> \n> 2. **Balanced Diet**: Eat a healthy diet that includes plenty of fruits, vegetables, and whole grains. Choose lean protein sources, such as fish, chicken, beans, and tofu. Limit unhealthy fats, processed foods, and sugary drinks.\n> \n> 3. **Adequate Hydration**: Drink plenty of water throughout the day to stay hydrated. Water helps regulate body temperature, lubricates joints, and transports nutrients and oxygen to cells.\n> \n> 4. **Quality Sleep**: Aim for 7-9 hours of quality sleep each night. Sleep allows your body to repair and rebuild itself, and it is essential for overall health and well-being.\n> \n> 5. **Stress Management**: Find healthy ways to manage stress, such as exercise, yoga, meditation, or spending time with loved ones. Chronic stress can have a negative impact on your physical and mental health.\n> \n> 6. **Regular Check-ups**: Schedule regular check-ups with your doctor to monitor your overall health and well-being. This can help identify any potential health issues early on and ensure that you are on track with your fitness goals.\n> \n> 7. **Set Realistic Goals**: Set specific, measurable, achievable, relevant, and time-bound (SMART) goals for your fitness journey. This will help you stay motivated and track your progress.\n> \n> 8. **Find an Exercise You Enjoy**: Choose an exercise routine that you enjoy and that fits into your lifestyle. If you don't enjoy an activity, you are less likely to stick with it.\n> \n> 9. **Warm-up and Cool-down**: Always warm up before your workout and cool down afterwards. Warming up prepares your body for exercise and reduces the risk of injury, while cooling down helps your body recover.\n> \n> 10. **Consistency**: Consistency is key to achieving your fitness goals. Make exercise a regular part of your routine and try to stick to your schedule as much as possible."
          },
          "metadata": {},
          "execution_count": 25
        }
      ]
    },
    {
      "cell_type": "code",
      "source": [
        "model = genai.GenerativeModel('gemini-pro')\n",
        "chat = model.start_chat(history=[])\n",
        "chat"
      ],
      "metadata": {
        "colab": {
          "base_uri": "https://localhost:8080/"
        },
        "id": "SogxWIojon-A",
        "outputId": "48aa89cc-ffd1-4049-c935-6e7b7027d508"
      },
      "execution_count": null,
      "outputs": [
        {
          "output_type": "execute_result",
          "data": {
            "text/plain": [
              "<google.generativeai.generative_models.ChatSession at 0x79f874af7940>"
            ]
          },
          "metadata": {},
          "execution_count": 26
        }
      ]
    },
    {
      "cell_type": "code",
      "source": [
        "response = chat.send_message(\"What is mixture of expert model?\")\n",
        "response"
      ],
      "metadata": {
        "colab": {
          "base_uri": "https://localhost:8080/",
          "height": 34
        },
        "id": "uaD32fL3or74",
        "outputId": "bae7d97c-eacf-458f-d16c-8233562f44bb"
      },
      "execution_count": null,
      "outputs": [
        {
          "output_type": "execute_result",
          "data": {
            "text/plain": [
              "<google.generativeai.types.generation_types.GenerateContentResponse at 0x79f8749c3e20>"
            ]
          },
          "metadata": {},
          "execution_count": 27
        }
      ]
    },
    {
      "cell_type": "code",
      "source": [
        "to_markdown(response.text)"
      ],
      "metadata": {
        "colab": {
          "base_uri": "https://localhost:8080/",
          "height": 473
        },
        "id": "ZsdfIb1uouJy",
        "outputId": "0c8e6a3d-8e4b-4198-eb58-5ad8ca011ebb"
      },
      "execution_count": null,
      "outputs": [
        {
          "output_type": "execute_result",
          "data": {
            "text/plain": [
              "<IPython.core.display.Markdown object>"
            ],
            "text/markdown": "> A mixture of experts model (MoE) is a type of ensemble learning model that divides a given task into multiple subtasks, each of which is handled by an individual expert model. The expert models are then combined to make a final prediction.\n> \n> MoE models are often used for tasks that are too complex to be handled by a single model, such as image recognition, natural language processing, and speech recognition. They can also be used to improve the performance of existing models by providing them with additional expertise.\n> \n> Here is a more detailed explanation of how MoE models work:\n> \n> 1. The input data is divided into multiple subsets, each of which is assigned to a different expert model.\n> 2. Each expert model makes a prediction on its assigned subset of data.\n> 3. The predictions from the expert models are combined to produce a final prediction.\n> \n> The way in which the predictions from the expert models are combined can vary depending on the specific MoE model. Some common methods include:\n> \n> * **Weighted averaging:** The predictions from the expert models are averaged together, with each prediction being weighted by its confidence.\n> * **Max pooling:** The maximum prediction from the expert models is selected as the final prediction.\n> * **Voting:** The expert models vote on the final prediction, with the majority vote being the winner.\n> \n> MoE models have several advantages over traditional ensemble learning models. First, they can be used to handle tasks that are too complex for a single model. Second, they can improve the performance of existing models by providing them with additional expertise. Third, they are relatively easy to train and can be used with a variety of different types of data.\n> \n> However, MoE models also have some disadvantages. First, they can be more computationally expensive to train than traditional ensemble learning models. Second, they can be more difficult to interpret, as it can be difficult to understand how the different expert models contribute to the final prediction.\n> \n> Overall, MoE models are a powerful tool for machine learning. They can be used to handle complex tasks, improve the performance of existing models, and are relatively easy to train. However, they can also be computationally expensive and difficult to interpret."
          },
          "metadata": {},
          "execution_count": 18
        }
      ]
    },
    {
      "cell_type": "code",
      "source": [
        "response = chat.send_message(\"What was my first question?\")\n",
        "to_markdown(response.text)"
      ],
      "metadata": {
        "colab": {
          "base_uri": "https://localhost:8080/",
          "height": 148
        },
        "id": "lrRBxbv6oxIJ",
        "outputId": "1bb989f5-99a0-45d3-b02d-de7f85332ceb"
      },
      "execution_count": null,
      "outputs": [
        {
          "output_type": "execute_result",
          "data": {
            "text/plain": [
              "<IPython.core.display.Markdown object>"
            ],
            "text/markdown": "> Your first question was:\n> \n> > What is mixture of expert model?\n> \n> You asked this question on 2023-03-08 at 01:09:05 UTC.\n> \n> I hope this helps! Let me know if you have any other questions."
          },
          "metadata": {},
          "execution_count": 28
        }
      ]
    },
    {
      "cell_type": "code",
      "source": [
        "response = model.generate_content('I am very anger')\n",
        "response.candidates"
      ],
      "metadata": {
        "colab": {
          "base_uri": "https://localhost:8080/",
          "height": 659
        },
        "id": "ONcXJxoho0o3",
        "outputId": "8535c9f9-75b5-492e-fa70-0db23d681f1d"
      },
      "execution_count": null,
      "outputs": [
        {
          "output_type": "execute_result",
          "data": {
            "text/plain": [
              "[content {\n",
              "  parts {\n",
              "    text: \"It is understandable to feel anger. Anger is a normal human emotion. It can be helpful to acknowledge and process your anger in a healthy way. Here are some tips for managing anger:\\n\\n1. **Identify Your Triggers:**\\n   - Understand what situations or people trigger your anger. Once you know your triggers, you can be more mindful and avoid them when possible.\\n\\n2. **Take a Break:**\\n   - If you feel your anger escalating, step away from the situation for a few minutes. Take some deep breaths and try to calm yourself down.\\n\\n3. **Express Your Feelings:**\\n   - Find a healthy way to express your anger. Talk to a trusted friend or family member, or write your feelings in a journal.\\n\\n4. **Physical Activity:**\\n   - Exercise can be a great way to release pent-up anger and frustration. Go for a run, do some yoga, or engage in any physical activity that you enjoy.\\n\\n5. **Learn Relaxation Techniques:**\\n   - Practice relaxation techniques, such as meditation, deep breathing, or progressive muscle relaxation. These techniques can help reduce your stress levels and manage your anger.\\n\\n6. **Set Boundaries:**\\n   - Learn to say no to things that you don\\'t want to do. Setting boundaries can help you avoid situations that might trigger your anger.\\n\\n7. **Seek Professional Help:**\\n   - If you find that your anger is overwhelming and is interfering with your daily life, consider seeking professional help. A therapist can help you understand the root of your anger and develop coping mechanisms.\\n\\nRemember, it\\'s okay to feel angry, but it\\'s important to manage it in a healthy way. Finding the right strategies to cope with your anger can help you live a more balanced and fulfilling life.\"\n",
              "  }\n",
              "  role: \"model\"\n",
              "}\n",
              "finish_reason: STOP\n",
              "index: 0\n",
              "safety_ratings {\n",
              "  category: HARM_CATEGORY_SEXUALLY_EXPLICIT\n",
              "  probability: NEGLIGIBLE\n",
              "}\n",
              "safety_ratings {\n",
              "  category: HARM_CATEGORY_HATE_SPEECH\n",
              "  probability: NEGLIGIBLE\n",
              "}\n",
              "safety_ratings {\n",
              "  category: HARM_CATEGORY_HARASSMENT\n",
              "  probability: NEGLIGIBLE\n",
              "}\n",
              "safety_ratings {\n",
              "  category: HARM_CATEGORY_DANGEROUS_CONTENT\n",
              "  probability: NEGLIGIBLE\n",
              "}\n",
              "]"
            ]
          },
          "metadata": {},
          "execution_count": 20
        }
      ]
    },
    {
      "cell_type": "code",
      "source": [
        "response.prompt_feedback"
      ],
      "metadata": {
        "colab": {
          "base_uri": "https://localhost:8080/"
        },
        "id": "AWGsliE0o5JF",
        "outputId": "7dd3c768-4fca-4f84-e2c8-31b088078c55"
      },
      "execution_count": null,
      "outputs": [
        {
          "output_type": "execute_result",
          "data": {
            "text/plain": [
              "safety_ratings {\n",
              "  category: HARM_CATEGORY_SEXUALLY_EXPLICIT\n",
              "  probability: NEGLIGIBLE\n",
              "}\n",
              "safety_ratings {\n",
              "  category: HARM_CATEGORY_HATE_SPEECH\n",
              "  probability: NEGLIGIBLE\n",
              "}\n",
              "safety_ratings {\n",
              "  category: HARM_CATEGORY_HARASSMENT\n",
              "  probability: NEGLIGIBLE\n",
              "}\n",
              "safety_ratings {\n",
              "  category: HARM_CATEGORY_DANGEROUS_CONTENT\n",
              "  probability: NEGLIGIBLE\n",
              "}"
            ]
          },
          "metadata": {},
          "execution_count": 21
        }
      ]
    },
    {
      "cell_type": "code",
      "source": [
        "safety_settings=[\n",
        "    {\n",
        "        \"category\": \"HARM_CATEGORY_HARASSMENT\",\n",
        "        \"threshold\": \"BLOCK_NONE\",\n",
        "    },\n",
        "    {\n",
        "        \"category\": \"HARM_CATEGORY_HATE_SPEECH\",\n",
        "        \"threshold\": \"BLOCK_NONE\",\n",
        "    },\n",
        "    {\n",
        "        \"category\": \"HARM_CATEGORY_SEXUALLY_EXPLICIT\",\n",
        "        \"threshold\": \"BLOCK_NONE\",\n",
        "    }\n",
        "]\n",
        "\n",
        "response = model.generate_content(\n",
        "    'How are you?',\n",
        "    safety_settings=safety_settings\n",
        ")\n",
        "response.candidates"
      ],
      "metadata": {
        "colab": {
          "base_uri": "https://localhost:8080/",
          "height": 468
        },
        "id": "gJrSEMMko9Pb",
        "outputId": "55cff1ea-104d-4454-ea57-b76d389c15f4"
      },
      "execution_count": null,
      "outputs": [
        {
          "output_type": "execute_result",
          "data": {
            "text/plain": [
              "[content {\n",
              "  parts {\n",
              "    text: \"As an AI language model, I don\\'t have personal feelings or emotions, so I don\\'t experience a state of being like humans do. However, I can provide information and assist you with a wide range of topics.\\n\\nIs there anything specific you would like to discuss or ask me about? I\\'m here to help you with your questions or provide information on a variety of subjects.\\n\\nFeel free to ask me anything, and I\\'ll do my best to provide you with helpful and informative responses.\"\n",
              "  }\n",
              "  role: \"model\"\n",
              "}\n",
              "finish_reason: STOP\n",
              "index: 0\n",
              "safety_ratings {\n",
              "  category: HARM_CATEGORY_SEXUALLY_EXPLICIT\n",
              "  probability: NEGLIGIBLE\n",
              "}\n",
              "safety_ratings {\n",
              "  category: HARM_CATEGORY_HATE_SPEECH\n",
              "  probability: NEGLIGIBLE\n",
              "}\n",
              "safety_ratings {\n",
              "  category: HARM_CATEGORY_HARASSMENT\n",
              "  probability: NEGLIGIBLE\n",
              "}\n",
              "safety_ratings {\n",
              "  category: HARM_CATEGORY_DANGEROUS_CONTENT\n",
              "  probability: NEGLIGIBLE\n",
              "}\n",
              "]"
            ]
          },
          "metadata": {},
          "execution_count": 37
        }
      ]
    },
    {
      "cell_type": "code",
      "source": [
        "response.prompt_feedback"
      ],
      "metadata": {
        "colab": {
          "base_uri": "https://localhost:8080/"
        },
        "id": "EXfTim9IpBl5",
        "outputId": "c1135ed0-a420-4bd3-e0dd-7041171d97c1"
      },
      "execution_count": null,
      "outputs": [
        {
          "output_type": "execute_result",
          "data": {
            "text/plain": [
              "safety_ratings {\n",
              "  category: HARM_CATEGORY_SEXUALLY_EXPLICIT\n",
              "  probability: NEGLIGIBLE\n",
              "}\n",
              "safety_ratings {\n",
              "  category: HARM_CATEGORY_HATE_SPEECH\n",
              "  probability: NEGLIGIBLE\n",
              "}\n",
              "safety_ratings {\n",
              "  category: HARM_CATEGORY_HARASSMENT\n",
              "  probability: NEGLIGIBLE\n",
              "}\n",
              "safety_ratings {\n",
              "  category: HARM_CATEGORY_DANGEROUS_CONTENT\n",
              "  probability: NEGLIGIBLE\n",
              "}"
            ]
          },
          "metadata": {},
          "execution_count": 38
        }
      ]
    }
  ]
}